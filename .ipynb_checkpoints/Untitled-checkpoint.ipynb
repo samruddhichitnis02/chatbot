{
 "cells": [
  {
   "cell_type": "code",
   "execution_count": 1,
   "metadata": {},
   "outputs": [],
   "source": [
    "from rasa_core.agent import Agent\n",
    "from rasa_core.interpreter import RasaNLUInterpreter"
   ]
  },
  {
   "cell_type": "code",
   "execution_count": null,
   "metadata": {},
   "outputs": [
    {
     "name": "stdout",
     "output_type": "stream",
     "text": [
      "WARNING:tensorflow:From /home/admin1/anaconda3/envs/rasaenv/lib/python3.7/site-packages/tensorflow/python/training/saver.py:1266: checkpoint_exists (from tensorflow.python.training.checkpoint_management) is deprecated and will be removed in a future version.\n",
      "Instructions for updating:\n",
      "Use standard file APIs to check for files with this prefix.\n",
      "INFO:tensorflow:Restoring parameters from models/nlu/default/bridgelabzbot/component_5_EmbeddingIntentClassifier.ckpt\n",
      "\n",
      "WARNING: The TensorFlow contrib module will not be included in TensorFlow 2.0.\n",
      "For more information, please see:\n",
      "  * https://github.com/tensorflow/community/blob/master/rfcs/20180907-contrib-sunset.md\n",
      "  * https://github.com/tensorflow/addons\n",
      "If you depend on functionality not listed there, please file an issue.\n",
      "\n",
      "WARNING:tensorflow:From /home/admin1/anaconda3/envs/rasaenv/lib/python3.7/site-packages/tensorflow/python/ops/resource_variable_ops.py:435: colocate_with (from tensorflow.python.framework.ops) is deprecated and will be removed in a future version.\n",
      "Instructions for updating:\n",
      "Colocations handled automatically by placer.\n",
      "WARNING:tensorflow:From /home/admin1/anaconda3/envs/rasaenv/lib/python3.7/site-packages/tensorflow/python/keras/backend.py:4010: calling dropout (from tensorflow.python.ops.nn_ops) with keep_prob is deprecated and will be removed in a future version.\n",
      "Instructions for updating:\n",
      "Please use `rate` instead of `keep_prob`. Rate should be set to `rate = 1 - keep_prob`.\n",
      "WARNING:tensorflow:From /home/admin1/anaconda3/envs/rasaenv/lib/python3.7/site-packages/tensorflow/python/ops/math_ops.py:3066: to_int32 (from tensorflow.python.ops.math_ops) is deprecated and will be removed in a future version.\n",
      "Instructions for updating:\n",
      "Use tf.cast instead.\n",
      "Your bot is ready to talk! Type your messages here or send 'stop'\n",
      "how can i register?\n",
      "You can register here- https://codingtest.bridgelabz.com/register/CHATBOT1.0\n",
      "how long is the fellowship program?\n",
      "Essentially the Tech Stack we work on are Android iOS on Native Web Apps on Angular and React Backend Servers on Java Spring Hibernate and MEAN stack. All development is done on Linux Environment and for iOS in Mac Machine. We use Heroku and AWS Cloud. We use several other tech stacks like Redis for Caching and Messaging MQTT for Push Notifications Git Repository Dagger for Dependency Injection Retrofit Volley & Alamofire for Networking Rest Calls etc\n",
      "How do I get admission in training program?\n",
      "You can register here- https://codingtest.bridgelabz.com/register/CHATBOT1.0\n",
      "Where training will be held?\n",
      "From morning 8.30 AM to 7.30 PM the fellowship engineers are expected to code. In the beginning it is data structures later it is live sample app and lastly it is to develop App solving the real-world problem statement.\n",
      "what is the duration of the fellowship program?\n",
      "100% of fellowship engineers will be involved in developing Cloud Aware Apps solving real-world problems.\n",
      "Do I need to pay for fellowship program?\n",
      "From morning 8.30 AM to 7.30 PM the fellowship engineers are expected to code. In the beginning it is data structures later it is live sample app and lastly it is to develop App solving the real-world problem statement.\n",
      "how much time will take to complete fellowship program?\n",
      "We are directly not helping however our HR team supports the students with the details of a contact person\n",
      "What do I need to know to be able to get through the Hackathon?\n",
      "Our fellows get salaries benchmarked with the best in the industry. The specific salary can depend on the technology being worked on ‚Äì but our fellows are rated as long term material by our partner companies and get salaries on par with on-campus hires. The starting salaries for fresh engineers can be between Rs 4 to 8 lacs per annum.\n",
      "What tools will I get a chance to learn?\n",
      "Our fellows get salaries benchmarked with the best in the industry. The specific salary can depend on the technology being worked on ‚Äì but our fellows are rated as long term material by our partner companies and get salaries on par with on-campus hires. The starting salaries for fresh engineers can be between Rs 4 to 8 lacs per annum.\n",
      "What does the day-to-day look like?\n",
      "Coding jobs with emerging tech product companies require confidence in everyday coding. BridgeLabz fellowship program gives engineers the chance to develop in-depth hands-on knowledge in a well-defined Tech Stack by developing real-world Apps. Also we guarantee your job with our partner product companies.\n"
     ]
    }
   ],
   "source": [
    "interpreter = RasaNLUInterpreter(\"models/nlu/default/bridgelabzbot\")\n",
    "agent = Agent.load(\"models/dialogue\", interpreter=interpreter)\n",
    "print(\"Your bot is ready to talk! Type your messages here or send 'stop'\")\n",
    "while True:\n",
    "    responses = agent.handle_text(input())\n",
    "    for response in responses:\n",
    "        print(response[\"text\"])\n",
    "        "
   ]
  },
  {
   "cell_type": "code",
   "execution_count": null,
   "metadata": {},
   "outputs": [],
   "source": []
  }
 ],
 "metadata": {
  "kernelspec": {
   "display_name": "Python 3",
   "language": "python",
   "name": "python3"
  },
  "language_info": {
   "codemirror_mode": {
    "name": "ipython",
    "version": 3
   },
   "file_extension": ".py",
   "mimetype": "text/x-python",
   "name": "python",
   "nbconvert_exporter": "python",
   "pygments_lexer": "ipython3",
   "version": "3.7.5"
  }
 },
 "nbformat": 4,
 "nbformat_minor": 2
}
